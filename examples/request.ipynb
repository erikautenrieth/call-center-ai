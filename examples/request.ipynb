{
 "cells": [
  {
   "cell_type": "code",
   "execution_count": null,
   "id": "8f0d0831",
   "metadata": {},
   "outputs": [],
   "source": [
    "import requests\n",
    "import json\n",
    "\n",
    "def trigger_bot_call():\n",
    "    url = \"https://call-center-ai.mangoocean-f904c417.swedencentral.azurecontainerapps.io/call\"\n",
    "\n",
    "    payload = {\n",
    "        \"bot_company\": \"Contoso\",\n",
    "        \"bot_name\": \"Amélie\",\n",
    "        \"phone_number\": \"+4917631537758\",\n",
    "        \"task\": (\n",
    "            \"Help the customer with their digital workplace. \"\n",
    "            \"Assistant is working for the IT support department. \"\n",
    "            \"The objective is to help the customer with their issue and gather information in the claim.\"\n",
    "        ),\n",
    "        \"agent_phone_number\": \"+18662356751\",\n",
    "        \"claim\": [\n",
    "            {\"name\": \"hardware_info\", \"type\": \"text\"},\n",
    "            {\"name\": \"first_seen\", \"type\": \"datetime\"},\n",
    "            {\"name\": \"building_location\", \"type\": \"text\"}\n",
    "        ]\n",
    "    }\n",
    "\n",
    "    headers = {\n",
    "        \"Content-Type\": \"application/json\"\n",
    "    }\n",
    "\n",
    "    response = requests.post(url, headers=headers, data=json.dumps(payload))\n",
    "    print(response)\n",
    "\n",
    "    if response.status_code == 200:\n",
    "        print(\"✅ Call initiated successfully.\")\n",
    "    else:\n",
    "        print(f\"❌ Failed to initiate call. Status code: {response.status_code}\")\n",
    "        print(\"Response:\", response.text)"
   ]
  },
  {
   "cell_type": "code",
   "execution_count": 2,
   "id": "266529c9",
   "metadata": {},
   "outputs": [
    {
     "name": "stdout",
     "output_type": "stream",
     "text": [
      "<Response [404]>\n",
      "❌ Failed to initiate call. Status code: 404\n",
      "Response: {\"error\":{\"message\":\"Not Found\",\"details\":[]}}\n"
     ]
    }
   ],
   "source": [
    "trigger_bot_call()"
   ]
  }
 ],
 "metadata": {
  "kernelspec": {
   "display_name": "call-center-ai",
   "language": "python",
   "name": "python3"
  },
  "language_info": {
   "codemirror_mode": {
    "name": "ipython",
    "version": 3
   },
   "file_extension": ".py",
   "mimetype": "text/x-python",
   "name": "python",
   "nbconvert_exporter": "python",
   "pygments_lexer": "ipython3",
   "version": "3.13.6"
  }
 },
 "nbformat": 4,
 "nbformat_minor": 5
}
