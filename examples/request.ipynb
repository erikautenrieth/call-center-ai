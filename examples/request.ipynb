{
 "cells": [
  {
   "cell_type": "code",
   "execution_count": null,
   "id": "8f0d0831",
   "metadata": {},
   "outputs": [],
   "source": [
    "import requests\n",
    "import json"
   ]
  },
  {
   "cell_type": "code",
   "execution_count": null,
   "id": "72288e14",
   "metadata": {},
   "outputs": [],
   "source": [
    "CALL_CENTER_API_URL = \"https://call-center-ai.mangoocean-f904c417.swedencentral.azurecontainerapps.io/call\"\n",
    "REPORT_URL_TEMPLATE = \"https://call-center-ai.mangoocean-f904c417.swedencentral.azurecontainerapps.io/report/31297dbc-1f12-4227-a4ad-1600d944af3e\""
   ]
  },
  {
   "cell_type": "code",
   "execution_count": null,
   "id": "e2061254",
   "metadata": {},
   "outputs": [],
   "source": [
    "def trigger_bot_call():\n",
    "    url = \"https://call-center-ai.mangoocean-f904c417.swedencentral.azurecontainerapps.io/call\"\n",
    "\n",
    "    payload = {\n",
    "        \"bot_company\": \"Mindfields AG\",\n",
    "        \"bot_name\": \"Conrad\",\n",
    "        \"phone_number\": \"+4917631537758\",\n",
    "        \"task\": (\n",
    "            \"Helfe dem Kunden mit seinem Anliegen bezüglich einer offenen Forderung der PARKcontrol24. Sammle die notwendigen Informationen, um eine Lösung zu finden, idealerweise durch eine standardisierte Ratenzahlung. Bleibe dabei stets freundlich, professionell und lösungsorientiert. \"\n",
    "            \"Ziel ist es, eingehende Anrufe von Schuldnern aufzunehmen, korrekt zu qualifizieren und unter Beachtung rechtlicher und psychologischer Rahmenbedingungen eine lösungsorientierte Gesprächsführung sicherzustellen.\"\n",
    "        ),\n",
    "        \"agent_phone_number\": \"+18662356751\",\n",
    "        \"claim\": [\n",
    "             { \"name\": \"vorname\", \"type\": \"text\" },\n",
    "             { \"name\": \"nachname\", \"type\": \"text\" },\n",
    "             { \"name\": \"kennzeichen\", \"type\": \"text\" },\n",
    "             { \"name\": \"aktenzeichen\", \"type\": \"text\" },\n",
    "             { \"name\": \"alternative_telefonnummer\", \"type\": \"text\" },\n",
    "             { \"name\": \"direkt_zahlung\", \"type\": \"boolean\" },\n",
    "             { \"name\": \"ratenzahlung\", \"type\": \"boolean\" },\n",
    "             { \"name\": \"ratenhoehe\", \"type\": \"number\" },\n",
    "             { \"name\": \"zahlungsbeginn\", \"type\": \"datetime\" }\n",
    "        ]\n",
    "    }\n",
    "\n",
    "    headers = {\n",
    "        \"Content-Type\": \"application/json\"\n",
    "    }\n",
    "\n",
    "    response = requests.post(url, headers=headers, data=json.dumps(payload))\n",
    "    print(response)\n",
    "\n",
    "    if response.status_code == 200:\n",
    "        print(\"✅ Call initiated successfully.\")\n",
    "    else:\n",
    "        print(f\"❌ Failed to initiate call. Status code: {response.status_code}\")\n",
    "        print(\"Response:\", response.text)"
   ]
  },
  {
   "cell_type": "code",
   "execution_count": null,
   "id": "eaf59873",
   "metadata": {},
   "outputs": [],
   "source": []
  },
  {
   "cell_type": "code",
   "execution_count": 2,
   "id": "266529c9",
   "metadata": {},
   "outputs": [
    {
     "name": "stdout",
     "output_type": "stream",
     "text": [
      "<Response [404]>\n",
      "❌ Failed to initiate call. Status code: 404\n",
      "Response: {\"error\":{\"message\":\"Not Found\",\"details\":[]}}\n"
     ]
    }
   ],
   "source": [
    "trigger_bot_call()"
   ]
  }
 ],
 "metadata": {
  "kernelspec": {
   "display_name": "call-center-ai",
   "language": "python",
   "name": "python3"
  },
  "language_info": {
   "codemirror_mode": {
    "name": "ipython",
    "version": 3
   },
   "file_extension": ".py",
   "mimetype": "text/x-python",
   "name": "python",
   "nbconvert_exporter": "python",
   "pygments_lexer": "ipython3",
   "version": "3.13.6"
  }
 },
 "nbformat": 4,
 "nbformat_minor": 5
}
