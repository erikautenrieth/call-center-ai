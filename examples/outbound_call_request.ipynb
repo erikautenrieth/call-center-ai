{
 "cells": [
  {
   "cell_type": "code",
   "execution_count": 5,
   "id": "8f0d0831",
   "metadata": {},
   "outputs": [],
   "source": [
    "import requests\n",
    "import json"
   ]
  },
  {
   "cell_type": "code",
   "execution_count": 6,
   "id": "72288e14",
   "metadata": {},
   "outputs": [],
   "source": [
    "CALL_CENTER_API_URL = \"https://call-center-ai.mangoocean-f904c417.swedencentral.azurecontainerapps.io/call\"\n",
    "REPORT_URL_TEMPLATE = \"https://call-center-ai.mangoocean-f904c417.swedencentral.azurecontainerapps.io/report/31297dbc-1f12-4227-a4ad-1600d944af3e\""
   ]
  },
  {
   "cell_type": "code",
   "execution_count": 7,
   "id": "e2061254",
   "metadata": {},
   "outputs": [],
   "source": [
    "def trigger_bot_call():\n",
    "    url = \"https://call-center-ai.mangoocean-f904c417.swedencentral.azurecontainerapps.io/call\"\n",
    "\n",
    "    payload = {\n",
    "        \"bot_company\": \"Mindfields AG\",\n",
    "        \"bot_name\": \"Conrad\",\n",
    "        \"phone_number\": \"+4917631537758\",\n",
    "        \"task\": (\n",
    "            \"Helfe dem Kunden mit seinem Anliegen bezüglich einer offenen Forderung der PARKcontrol24. Sammle die notwendigen Informationen, um eine Lösung zu finden, idealerweise durch eine standardisierte Ratenzahlung. Bleibe dabei stets freundlich, professionell und lösungsorientiert. \"\n",
    "            \"Ziel ist es, eingehende Anrufe von Schuldnern aufzunehmen, korrekt zu qualifizieren und unter Beachtung rechtlicher und psychologischer Rahmenbedingungen eine lösungsorientierte Gesprächsführung sicherzustellen.\"\n",
    "        ),\n",
    "        \"agent_phone_number\": \"+18662356751\",\n",
    "        \"claim\": [\n",
    "             { \"name\": \"vorname\", \"type\": \"text\" },\n",
    "             { \"name\": \"nachname\", \"type\": \"text\" },\n",
    "             { \"name\": \"kennzeichen\", \"type\": \"text\" },\n",
    "             { \"name\": \"aktenzeichen\", \"type\": \"text\" },\n",
    "             { \"name\": \"alternative_telefonnummer\", \"type\": \"phone_number\" },\n",
    "             { \"name\": \"direkt_zahlung\", \"type\": \"text\" },\n",
    "             { \"name\": \"ratenzahlung\", \"type\": \"text\" },\n",
    "             { \"name\": \"ratenhoehe\", \"type\": \"text\" },\n",
    "             { \"name\": \"zahlungsbeginn\", \"type\": \"datetime\" }\n",
    "        ]\n",
    "    }\n",
    "\n",
    "    headers = {\n",
    "        \"Content-Type\": \"application/json\"\n",
    "    }\n",
    "\n",
    "    response = requests.post(url, headers=headers, data=json.dumps(payload))\n",
    "    print(response)\n",
    "\n",
    "    if response.status_code == 200:\n",
    "        print(\"✅ Call initiated successfully.\")\n",
    "    else:\n",
    "        print(f\"❌ Failed to initiate call. Status code: {response.status_code}\")\n",
    "        print(\"Response:\", response.text)"
   ]
  },
  {
   "cell_type": "code",
   "execution_count": 8,
   "id": "266529c9",
   "metadata": {},
   "outputs": [
    {
     "name": "stdout",
     "output_type": "stream",
     "text": [
      "<Response [201]>\n",
      "❌ Failed to initiate call. Status code: 201\n",
      "Response: {\"call_id\":\"4333b4f3-e9cc-496c-9009-ff8df6641786\",\"created_at\":\"2025-09-07T12:39:27.184132Z\",\"in_progress\":false,\"initiate\":{\"agent_phone_number\":\"+18662356751\",\"bot_company\":\"Mindfields AG\",\"bot_name\":\"Conrad\",\"claim\":[{\"description\":null,\"name\":\"vorname\",\"type\":\"text\"},{\"description\":null,\"name\":\"nachname\",\"type\":\"text\"},{\"description\":null,\"name\":\"kennzeichen\",\"type\":\"text\"},{\"description\":null,\"name\":\"aktenzeichen\",\"type\":\"text\"},{\"description\":null,\"name\":\"alternative_telefonnummer\",\"type\":\"phone_number\"},{\"description\":null,\"name\":\"direkt_zahlung\",\"type\":\"text\"},{\"description\":null,\"name\":\"ratenzahlung\",\"type\":\"text\"},{\"description\":null,\"name\":\"ratenhoehe\",\"type\":\"text\"},{\"description\":null,\"name\":\"zahlungsbeginn\",\"type\":\"datetime\"}],\"lang\":{\"default_short_code\":\"fr-FR\",\"availables\":[{\"custom_voice_endpoint_id\":null,\"pronunciations_en\":[\"French\",\"FR\",\"France\"],\"short_code\":\"fr-FR\",\"voice\":\"fr-FR-VivienneMultilingualNeural\"},{\"custom_voice_endpoint_id\":null,\"pronunciations_en\":[\"English\",\"EN\",\"United States\"],\"short_code\":\"en-US\",\"voice\":\"en-US-ShimmerTurboMultilingualNeural\"},{\"custom_voice_endpoint_id\":null,\"pronunciations_en\":[\"Spanish\",\"ES\",\"Spain\"],\"short_code\":\"es-ES\",\"voice\":\"es-ES-ArabellaMultilingualNeural\"},{\"custom_voice_endpoint_id\":null,\"pronunciations_en\":[\"Chinese\",\"ZH\",\"China\"],\"short_code\":\"zh-CN\",\"voice\":\"zh-CN-XiaoyuMultilingualNeural\"}]},\"prosody_rate\":1.0,\"task\":\"Helfe dem Kunden mit seinem Anliegen bezüglich einer offenen Forderung der PARKcontrol24. Sammle die notwendigen Informationen, um eine Lösung zu finden, idealerweise durch eine standardisierte Ratenzahlung. Bleibe dabei stets freundlich, professionell und lösungsorientiert. Ziel ist es, eingehende Anrufe von Schuldnern aufzunehmen, korrekt zu qualifizieren und unter Beachtung rechtlicher und psychologischer Rahmenbedingungen eine lösungsorientierte Gesprächsführung sicherzustellen.\",\"phone_number\":\"+4917631537758\"},\"claim\":{},\"messages\":[{\"created_at\":\"2025-09-07T12:39:37.324414Z\",\"action\":\"hangup\",\"content\":\"\",\"lang_short_code\":null,\"persona\":\"human\",\"style\":\"none\",\"tool_calls\":[]},{\"created_at\":\"2025-09-07T12:39:39.628585Z\",\"action\":\"sms\",\"content\":\"Hello, je n'ai pas pu vous entendre lors de votre appel. Si vous avez besoin d'aide concernant une créance de PARKcontrol24, n'hésitez pas à nous recontacter. Bonne journée ! Conrad de Mindfields AG.\",\"lang_short_code\":null,\"persona\":\"assistant\",\"style\":\"none\",\"tool_calls\":[]}],\"next\":{\"action\":\"case_closed\",\"justification\":\"The customer hung up before any information could be gathered or assistance provided. No further action can be taken at this time.\"},\"reminders\":[],\"synthesis\":{\"long\":\"You contacted us regarding an outstanding claim from PARKcontrol24. I was ready to assist you in clarifying the details of your case and to discuss possible solutions, such as setting up a standardized installment payment plan to help resolve the debt. My goal was to ensure a professional, understanding, and solution-oriented conversation, taking into account both legal and psychological aspects to support you in managing your obligation.\",\"satisfaction\":\"unknow\",\"short\":\"the outstanding claim from PARKcontrol24\",\"improvement_suggestions\":\"To improve the customer experience, ensure that callers are informed about the expected process and possible solutions at the beginning of the call. Additionally, providing a brief summary of the claim before discussing payment options could help customers feel more confident and understood.\"}}\n"
     ]
    }
   ],
   "source": [
    "trigger_bot_call()"
   ]
  },
  {
   "cell_type": "code",
   "execution_count": null,
   "id": "44c60fd1",
   "metadata": {},
   "outputs": [],
   "source": []
  }
 ],
 "metadata": {
  "kernelspec": {
   "display_name": "call-center-ai",
   "language": "python",
   "name": "python3"
  },
  "language_info": {
   "codemirror_mode": {
    "name": "ipython",
    "version": 3
   },
   "file_extension": ".py",
   "mimetype": "text/x-python",
   "name": "python",
   "nbconvert_exporter": "python",
   "pygments_lexer": "ipython3",
   "version": "3.13.6"
  }
 },
 "nbformat": 4,
 "nbformat_minor": 5
}
